{
 "cells": [
  {
   "cell_type": "code",
   "execution_count": 1,
   "id": "331e8758",
   "metadata": {
    "_cell_guid": "b1076dfc-b9ad-4769-8c92-a6c4dae69d19",
    "_uuid": "8f2839f25d086af736a60e9eeb907d3b93b6e0e5",
    "execution": {
     "iopub.execute_input": "2023-09-08T14:35:46.844251Z",
     "iopub.status.busy": "2023-09-08T14:35:46.843288Z",
     "iopub.status.idle": "2023-09-08T14:35:47.224892Z",
     "shell.execute_reply": "2023-09-08T14:35:47.223806Z"
    },
    "papermill": {
     "duration": 0.401991,
     "end_time": "2023-09-08T14:35:47.227550",
     "exception": false,
     "start_time": "2023-09-08T14:35:46.825559",
     "status": "completed"
    },
    "tags": []
   },
   "outputs": [],
   "source": [
    "# This Python 3 environment comes with many helpful analytics libraries installed\n",
    "# It is defined by the kaggle/python Docker image: https://github.com/kaggle/docker-python\n",
    "# For example, here's several helpful packages to load\n",
    "\n",
    "import numpy as np # linear algebra\n",
    "import pandas as pd # data processing, CSV file I/O (e.g. pd.read_csv)\n",
    "\n",
    "# Input data files are available in the read-only \"../input/\" directory\n",
    "# For example, running this (by clicking run or pressing Shift+Enter) will list all files under the input directory\n",
    "\n",
    "import os\n",
    "for dirname, _, filenames in os.walk('/kaggle/input'):\n",
    "    for filename in filenames:\n",
    "        print(os.path.join(dirname, filename))\n",
    "\n",
    "# You can write up to 20GB to the current directory (/kaggle/working/) that gets preserved as output when you create a version using \"Save & Run All\" \n",
    "# You can also write temporary files to /kaggle/temp/, but they won't be saved outside of the current session"
   ]
  },
  {
   "cell_type": "markdown",
   "id": "46fde26b",
   "metadata": {
    "papermill": {
     "duration": 0.007415,
     "end_time": "2023-09-08T14:35:47.243065",
     "exception": false,
     "start_time": "2023-09-08T14:35:47.235650",
     "status": "completed"
    },
    "tags": []
   },
   "source": [
    "# STUDENT SCORE PREDICTION\n",
    "\n",
    "This scenario entails a regression analysis aimed at forecasting a student's percentage score contingent on the amount of time they devoted to studying. The dataset encompasses two key columns: \"Hours,\" denoting the study duration, and \"Scores,\" representing the resultant percentage achieved by the student in an examination.\n",
    "\n",
    "The dataset you provided is a sample of such data, and it consists of pairs of hours studied and the respective percentage\n",
    "\n",
    "#### **AIM:To predict the percentage score of a student based on the number of study hours**\n"
   ]
  },
  {
   "cell_type": "markdown",
   "id": "d74e9a4b",
   "metadata": {
    "papermill": {
     "duration": 0.007443,
     "end_time": "2023-09-08T14:35:47.257856",
     "exception": false,
     "start_time": "2023-09-08T14:35:47.250413",
     "status": "completed"
    },
    "tags": []
   },
   "source": [
    "![](https://static.vecteezy.com/system/resources/thumbnails/002/173/392/small/student-studying-at-home-free-vector.jpg)"
   ]
  },
  {
   "cell_type": "markdown",
   "id": "1c515594",
   "metadata": {
    "papermill": {
     "duration": 0.007162,
     "end_time": "2023-09-08T14:35:47.272612",
     "exception": false,
     "start_time": "2023-09-08T14:35:47.265450",
     "status": "completed"
    },
    "tags": []
   },
   "source": [
    "#### **Importing the libraries**"
   ]
  },
  {
   "cell_type": "code",
   "execution_count": 2,
   "id": "5bae6691",
   "metadata": {
    "execution": {
     "iopub.execute_input": "2023-09-08T14:35:47.289594Z",
     "iopub.status.busy": "2023-09-08T14:35:47.288734Z",
     "iopub.status.idle": "2023-09-08T14:35:48.843657Z",
     "shell.execute_reply": "2023-09-08T14:35:48.842562Z"
    },
    "papermill": {
     "duration": 1.566516,
     "end_time": "2023-09-08T14:35:48.846432",
     "exception": false,
     "start_time": "2023-09-08T14:35:47.279916",
     "status": "completed"
    },
    "tags": []
   },
   "outputs": [],
   "source": [
    "import pandas as pd\n",
    "import numpy as np\n",
    "import seaborn as sns\n",
    "import matplotlib.pyplot as plt\n",
    "import warnings\n",
    "warnings.filterwarnings('ignore')"
   ]
  },
  {
   "cell_type": "markdown",
   "id": "c835768a",
   "metadata": {
    "papermill": {
     "duration": 0.007224,
     "end_time": "2023-09-08T14:35:48.861279",
     "exception": false,
     "start_time": "2023-09-08T14:35:48.854055",
     "status": "completed"
    },
    "tags": []
   },
   "source": [
    "#### **Loading the dataset**"
   ]
  },
  {
   "cell_type": "code",
   "execution_count": 3,
   "id": "d675c284",
   "metadata": {
    "execution": {
     "iopub.execute_input": "2023-09-08T14:35:48.877759Z",
     "iopub.status.busy": "2023-09-08T14:35:48.877381Z",
     "iopub.status.idle": "2023-09-08T14:35:48.939274Z",
     "shell.execute_reply": "2023-09-08T14:35:48.938125Z"
    },
    "papermill": {
     "duration": 0.073188,
     "end_time": "2023-09-08T14:35:48.941885",
     "exception": false,
     "start_time": "2023-09-08T14:35:48.868697",
     "status": "completed"
    },
    "tags": []
   },
   "outputs": [],
   "source": [
    "df=pd.read_csv('https://raw.githubusercontent.com/AdiPersonalWorks/Random/master/student_scores%20-%20student_scores.csv')\n",
    "\n"
   ]
  },
  {
   "cell_type": "code",
   "execution_count": 4,
   "id": "3e966e9c",
   "metadata": {
    "execution": {
     "iopub.execute_input": "2023-09-08T14:35:48.958983Z",
     "iopub.status.busy": "2023-09-08T14:35:48.958578Z",
     "iopub.status.idle": "2023-09-08T14:35:48.980616Z",
     "shell.execute_reply": "2023-09-08T14:35:48.979544Z"
    },
    "papermill": {
     "duration": 0.033566,
     "end_time": "2023-09-08T14:35:48.983183",
     "exception": false,
     "start_time": "2023-09-08T14:35:48.949617",
     "status": "completed"
    },
    "tags": []
   },
   "outputs": [
    {
     "data": {
      "text/html": [
       "<div>\n",
       "<style scoped>\n",
       "    .dataframe tbody tr th:only-of-type {\n",
       "        vertical-align: middle;\n",
       "    }\n",
       "\n",
       "    .dataframe tbody tr th {\n",
       "        vertical-align: top;\n",
       "    }\n",
       "\n",
       "    .dataframe thead th {\n",
       "        text-align: right;\n",
       "    }\n",
       "</style>\n",
       "<table border=\"1\" class=\"dataframe\">\n",
       "  <thead>\n",
       "    <tr style=\"text-align: right;\">\n",
       "      <th></th>\n",
       "      <th>Hours</th>\n",
       "      <th>Scores</th>\n",
       "    </tr>\n",
       "  </thead>\n",
       "  <tbody>\n",
       "    <tr>\n",
       "      <th>0</th>\n",
       "      <td>2.5</td>\n",
       "      <td>21</td>\n",
       "    </tr>\n",
       "    <tr>\n",
       "      <th>1</th>\n",
       "      <td>5.1</td>\n",
       "      <td>47</td>\n",
       "    </tr>\n",
       "    <tr>\n",
       "      <th>2</th>\n",
       "      <td>3.2</td>\n",
       "      <td>27</td>\n",
       "    </tr>\n",
       "    <tr>\n",
       "      <th>3</th>\n",
       "      <td>8.5</td>\n",
       "      <td>75</td>\n",
       "    </tr>\n",
       "    <tr>\n",
       "      <th>4</th>\n",
       "      <td>3.5</td>\n",
       "      <td>30</td>\n",
       "    </tr>\n",
       "    <tr>\n",
       "      <th>5</th>\n",
       "      <td>1.5</td>\n",
       "      <td>20</td>\n",
       "    </tr>\n",
       "    <tr>\n",
       "      <th>6</th>\n",
       "      <td>9.2</td>\n",
       "      <td>88</td>\n",
       "    </tr>\n",
       "    <tr>\n",
       "      <th>7</th>\n",
       "      <td>5.5</td>\n",
       "      <td>60</td>\n",
       "    </tr>\n",
       "    <tr>\n",
       "      <th>8</th>\n",
       "      <td>8.3</td>\n",
       "      <td>81</td>\n",
       "    </tr>\n",
       "    <tr>\n",
       "      <th>9</th>\n",
       "      <td>2.7</td>\n",
       "      <td>25</td>\n",
       "    </tr>\n",
       "    <tr>\n",
       "      <th>10</th>\n",
       "      <td>7.7</td>\n",
       "      <td>85</td>\n",
       "    </tr>\n",
       "    <tr>\n",
       "      <th>11</th>\n",
       "      <td>5.9</td>\n",
       "      <td>62</td>\n",
       "    </tr>\n",
       "    <tr>\n",
       "      <th>12</th>\n",
       "      <td>4.5</td>\n",
       "      <td>41</td>\n",
       "    </tr>\n",
       "    <tr>\n",
       "      <th>13</th>\n",
       "      <td>3.3</td>\n",
       "      <td>42</td>\n",
       "    </tr>\n",
       "    <tr>\n",
       "      <th>14</th>\n",
       "      <td>1.1</td>\n",
       "      <td>17</td>\n",
       "    </tr>\n",
       "    <tr>\n",
       "      <th>15</th>\n",
       "      <td>8.9</td>\n",
       "      <td>95</td>\n",
       "    </tr>\n",
       "    <tr>\n",
       "      <th>16</th>\n",
       "      <td>2.5</td>\n",
       "      <td>30</td>\n",
       "    </tr>\n",
       "    <tr>\n",
       "      <th>17</th>\n",
       "      <td>1.9</td>\n",
       "      <td>24</td>\n",
       "    </tr>\n",
       "    <tr>\n",
       "      <th>18</th>\n",
       "      <td>6.1</td>\n",
       "      <td>67</td>\n",
       "    </tr>\n",
       "    <tr>\n",
       "      <th>19</th>\n",
       "      <td>7.4</td>\n",
       "      <td>69</td>\n",
       "    </tr>\n",
       "    <tr>\n",
       "      <th>20</th>\n",
       "      <td>2.7</td>\n",
       "      <td>30</td>\n",
       "    </tr>\n",
       "    <tr>\n",
       "      <th>21</th>\n",
       "      <td>4.8</td>\n",
       "      <td>54</td>\n",
       "    </tr>\n",
       "    <tr>\n",
       "      <th>22</th>\n",
       "      <td>3.8</td>\n",
       "      <td>35</td>\n",
       "    </tr>\n",
       "    <tr>\n",
       "      <th>23</th>\n",
       "      <td>6.9</td>\n",
       "      <td>76</td>\n",
       "    </tr>\n",
       "    <tr>\n",
       "      <th>24</th>\n",
       "      <td>7.8</td>\n",
       "      <td>86</td>\n",
       "    </tr>\n",
       "  </tbody>\n",
       "</table>\n",
       "</div>"
      ],
      "text/plain": [
       "    Hours  Scores\n",
       "0     2.5      21\n",
       "1     5.1      47\n",
       "2     3.2      27\n",
       "3     8.5      75\n",
       "4     3.5      30\n",
       "5     1.5      20\n",
       "6     9.2      88\n",
       "7     5.5      60\n",
       "8     8.3      81\n",
       "9     2.7      25\n",
       "10    7.7      85\n",
       "11    5.9      62\n",
       "12    4.5      41\n",
       "13    3.3      42\n",
       "14    1.1      17\n",
       "15    8.9      95\n",
       "16    2.5      30\n",
       "17    1.9      24\n",
       "18    6.1      67\n",
       "19    7.4      69\n",
       "20    2.7      30\n",
       "21    4.8      54\n",
       "22    3.8      35\n",
       "23    6.9      76\n",
       "24    7.8      86"
      ]
     },
     "execution_count": 4,
     "metadata": {},
     "output_type": "execute_result"
    }
   ],
   "source": [
    "# Displaying the dataset\n",
    "df"
   ]
  },
  {
   "cell_type": "code",
   "execution_count": 5,
   "id": "85c9bfcd",
   "metadata": {
    "execution": {
     "iopub.execute_input": "2023-09-08T14:35:49.002701Z",
     "iopub.status.busy": "2023-09-08T14:35:49.002302Z",
     "iopub.status.idle": "2023-09-08T14:35:49.032870Z",
     "shell.execute_reply": "2023-09-08T14:35:49.031646Z"
    },
    "papermill": {
     "duration": 0.042347,
     "end_time": "2023-09-08T14:35:49.035319",
     "exception": false,
     "start_time": "2023-09-08T14:35:48.992972",
     "status": "completed"
    },
    "tags": []
   },
   "outputs": [
    {
     "name": "stdout",
     "output_type": "stream",
     "text": [
      "<class 'pandas.core.frame.DataFrame'>\n",
      "RangeIndex: 25 entries, 0 to 24\n",
      "Data columns (total 2 columns):\n",
      " #   Column  Non-Null Count  Dtype  \n",
      "---  ------  --------------  -----  \n",
      " 0   Hours   25 non-null     float64\n",
      " 1   Scores  25 non-null     int64  \n",
      "dtypes: float64(1), int64(1)\n",
      "memory usage: 528.0 bytes\n"
     ]
    }
   ],
   "source": [
    "# Concise information of the dataset\n",
    "\n",
    "df.info()"
   ]
  },
  {
   "cell_type": "code",
   "execution_count": 6,
   "id": "d22e5cb1",
   "metadata": {
    "execution": {
     "iopub.execute_input": "2023-09-08T14:35:49.053237Z",
     "iopub.status.busy": "2023-09-08T14:35:49.052848Z",
     "iopub.status.idle": "2023-09-08T14:35:49.069611Z",
     "shell.execute_reply": "2023-09-08T14:35:49.068567Z"
    },
    "papermill": {
     "duration": 0.028721,
     "end_time": "2023-09-08T14:35:49.072053",
     "exception": false,
     "start_time": "2023-09-08T14:35:49.043332",
     "status": "completed"
    },
    "tags": []
   },
   "outputs": [
    {
     "data": {
      "text/html": [
       "<div>\n",
       "<style scoped>\n",
       "    .dataframe tbody tr th:only-of-type {\n",
       "        vertical-align: middle;\n",
       "    }\n",
       "\n",
       "    .dataframe tbody tr th {\n",
       "        vertical-align: top;\n",
       "    }\n",
       "\n",
       "    .dataframe thead th {\n",
       "        text-align: right;\n",
       "    }\n",
       "</style>\n",
       "<table border=\"1\" class=\"dataframe\">\n",
       "  <thead>\n",
       "    <tr style=\"text-align: right;\">\n",
       "      <th></th>\n",
       "      <th>Hours</th>\n",
       "      <th>Scores</th>\n",
       "    </tr>\n",
       "  </thead>\n",
       "  <tbody>\n",
       "    <tr>\n",
       "      <th>count</th>\n",
       "      <td>25.000000</td>\n",
       "      <td>25.000000</td>\n",
       "    </tr>\n",
       "    <tr>\n",
       "      <th>mean</th>\n",
       "      <td>5.012000</td>\n",
       "      <td>51.480000</td>\n",
       "    </tr>\n",
       "    <tr>\n",
       "      <th>std</th>\n",
       "      <td>2.525094</td>\n",
       "      <td>25.286887</td>\n",
       "    </tr>\n",
       "    <tr>\n",
       "      <th>min</th>\n",
       "      <td>1.100000</td>\n",
       "      <td>17.000000</td>\n",
       "    </tr>\n",
       "    <tr>\n",
       "      <th>25%</th>\n",
       "      <td>2.700000</td>\n",
       "      <td>30.000000</td>\n",
       "    </tr>\n",
       "    <tr>\n",
       "      <th>50%</th>\n",
       "      <td>4.800000</td>\n",
       "      <td>47.000000</td>\n",
       "    </tr>\n",
       "    <tr>\n",
       "      <th>75%</th>\n",
       "      <td>7.400000</td>\n",
       "      <td>75.000000</td>\n",
       "    </tr>\n",
       "    <tr>\n",
       "      <th>max</th>\n",
       "      <td>9.200000</td>\n",
       "      <td>95.000000</td>\n",
       "    </tr>\n",
       "  </tbody>\n",
       "</table>\n",
       "</div>"
      ],
      "text/plain": [
       "           Hours     Scores\n",
       "count  25.000000  25.000000\n",
       "mean    5.012000  51.480000\n",
       "std     2.525094  25.286887\n",
       "min     1.100000  17.000000\n",
       "25%     2.700000  30.000000\n",
       "50%     4.800000  47.000000\n",
       "75%     7.400000  75.000000\n",
       "max     9.200000  95.000000"
      ]
     },
     "execution_count": 6,
     "metadata": {},
     "output_type": "execute_result"
    }
   ],
   "source": [
    "# Descriptive statistics of the dataset\n",
    "\n",
    "df.describe()"
   ]
  },
  {
   "cell_type": "code",
   "execution_count": 7,
   "id": "c9781cf4",
   "metadata": {
    "execution": {
     "iopub.execute_input": "2023-09-08T14:35:49.090077Z",
     "iopub.status.busy": "2023-09-08T14:35:49.089687Z",
     "iopub.status.idle": "2023-09-08T14:35:49.097662Z",
     "shell.execute_reply": "2023-09-08T14:35:49.096573Z"
    },
    "papermill": {
     "duration": 0.019906,
     "end_time": "2023-09-08T14:35:49.100171",
     "exception": false,
     "start_time": "2023-09-08T14:35:49.080265",
     "status": "completed"
    },
    "tags": []
   },
   "outputs": [
    {
     "data": {
      "text/plain": [
       "Hours     0\n",
       "Scores    0\n",
       "dtype: int64"
      ]
     },
     "execution_count": 7,
     "metadata": {},
     "output_type": "execute_result"
    }
   ],
   "source": [
    "# Checking for null values\n",
    "\n",
    "df.isnull().sum()"
   ]
  },
  {
   "cell_type": "markdown",
   "id": "5179fd79",
   "metadata": {
    "papermill": {
     "duration": 0.007892,
     "end_time": "2023-09-08T14:35:49.116645",
     "exception": false,
     "start_time": "2023-09-08T14:35:49.108753",
     "status": "completed"
    },
    "tags": []
   },
   "source": [
    "### **Exploratory Data Analysis**"
   ]
  },
  {
   "cell_type": "code",
   "execution_count": 8,
   "id": "66c97b2a",
   "metadata": {
    "execution": {
     "iopub.execute_input": "2023-09-08T14:35:49.135634Z",
     "iopub.status.busy": "2023-09-08T14:35:49.135029Z",
     "iopub.status.idle": "2023-09-08T14:35:49.632140Z",
     "shell.execute_reply": "2023-09-08T14:35:49.630830Z"
    },
    "papermill": {
     "duration": 0.509279,
     "end_time": "2023-09-08T14:35:49.634626",
     "exception": false,
     "start_time": "2023-09-08T14:35:49.125347",
     "status": "completed"
    },
    "tags": []
   },
   "outputs": [
    {
     "data": {
      "image/png": "[encoded data removed]",
      "text/plain": [
       "<Figure size 1200x600 with 1 Axes>"
      ]
     },
     "metadata": {},
     "output_type": "display_data"
    }
   ],
   "source": [
    "# Create a bargraph\n",
    "\n",
    "plt.figure(figsize=(12,6))\n",
    "sns.countplot(data=df, x='Hours')\n",
    "plt.xlabel('Hours')\n",
    "plt.ylabel('Scores')\n",
    "sns.distplot(df['Hours'], color='blue', kde=True)\n",
    "\n",
    "plt.title('Percentage Score vs Hours')\n",
    "plt.show()"
   ]
  },
  {
   "cell_type": "code",
   "execution_count": 9,
   "id": "62ab8a68",
   "metadata": {
    "execution": {
     "iopub.execute_input": "2023-09-08T14:35:49.654476Z",
     "iopub.status.busy": "2023-09-08T14:35:49.653831Z",
     "iopub.status.idle": "2023-09-08T14:35:49.946938Z",
     "shell.execute_reply": "2023-09-08T14:35:49.945792Z"
    },
    "papermill": {
     "duration": 0.305561,
     "end_time": "2023-09-08T14:35:49.949330",
     "exception": false,
     "start_time": "2023-09-08T14:35:49.643769",
     "status": "completed"
    },
    "tags": []
   },
   "outputs": [
    {
     "data": {
      "image/png": "[encoded data removed]",
      "text/plain": [
       "<Figure size 640x480 with 1 Axes>"
      ]
     },
     "metadata": {},
     "output_type": "display_data"
    }
   ],
   "source": [
    "# Plotting the dataset\n",
    "\n",
    "\n",
    "df.plot(kind='line', style='x')\n",
    "plt.title(\"Hours vs Percentage Score\", color='red')\n",
    "plt.xlabel('Hours Studied')\n",
    "plt.ylabel('Percentage Score')\n",
    "plt.show()"
   ]
  },
  {
   "cell_type": "code",
   "execution_count": 10,
   "id": "f42729c9",
   "metadata": {
    "execution": {
     "iopub.execute_input": "2023-09-08T14:35:49.970384Z",
     "iopub.status.busy": "2023-09-08T14:35:49.969558Z",
     "iopub.status.idle": "2023-09-08T14:35:50.265028Z",
     "shell.execute_reply": "2023-09-08T14:35:50.263888Z"
    },
    "papermill": {
     "duration": 0.30913,
     "end_time": "2023-09-08T14:35:50.267503",
     "exception": false,
     "start_time": "2023-09-08T14:35:49.958373",
     "status": "completed"
    },
    "tags": []
   },
   "outputs": [
    {
     "data": {
      "image/png": "[encoded data removed]",
      "text/plain": [
       "<Figure size 640x480 with 1 Axes>"
      ]
     },
     "metadata": {},
     "output_type": "display_data"
    }
   ],
   "source": [
    "# Creating a scatter plot\n",
    "\n",
    "plt.scatter(x=df.Hours, y=df.Scores, color='black')\n",
    "plt.title('Hours vs Percentage score')\n",
    "plt.xlabel('Hours Studied')\n",
    "plt.ylabel('Percentage Score')\n",
    "plt.show()"
   ]
  },
  {
   "cell_type": "markdown",
   "id": "d4f1a207",
   "metadata": {
    "papermill": {
     "duration": 0.009381,
     "end_time": "2023-09-08T14:35:50.286619",
     "exception": false,
     "start_time": "2023-09-08T14:35:50.277238",
     "status": "completed"
    },
    "tags": []
   },
   "source": [
    "#### **Splitting the data**"
   ]
  },
  {
   "cell_type": "code",
   "execution_count": 11,
   "id": "67ec186f",
   "metadata": {
    "execution": {
     "iopub.execute_input": "2023-09-08T14:35:50.307792Z",
     "iopub.status.busy": "2023-09-08T14:35:50.307449Z",
     "iopub.status.idle": "2023-09-08T14:35:50.312784Z",
     "shell.execute_reply": "2023-09-08T14:35:50.311676Z"
    },
    "papermill": {
     "duration": 0.018721,
     "end_time": "2023-09-08T14:35:50.315018",
     "exception": false,
     "start_time": "2023-09-08T14:35:50.296297",
     "status": "completed"
    },
    "tags": []
   },
   "outputs": [],
   "source": [
    "X= df.iloc[:, :-1].values\n",
    "Y= df.iloc[:,1].values"
   ]
  },
  {
   "cell_type": "code",
   "execution_count": 12,
   "id": "65969d9f",
   "metadata": {
    "execution": {
     "iopub.execute_input": "2023-09-08T14:35:50.336200Z",
     "iopub.status.busy": "2023-09-08T14:35:50.335835Z",
     "iopub.status.idle": "2023-09-08T14:35:50.619428Z",
     "shell.execute_reply": "2023-09-08T14:35:50.618239Z"
    },
    "papermill": {
     "duration": 0.297492,
     "end_time": "2023-09-08T14:35:50.622155",
     "exception": false,
     "start_time": "2023-09-08T14:35:50.324663",
     "status": "completed"
    },
    "tags": []
   },
   "outputs": [],
   "source": [
    "# Splitting the dataset\n",
    "\n",
    "from sklearn.model_selection import train_test_split\n",
    "x_train,x_test,y_train,y_test = train_test_split(X,Y, test_size=0.3, random_state=0)"
   ]
  },
  {
   "cell_type": "markdown",
   "id": "dea9f8c9",
   "metadata": {
    "papermill": {
     "duration": 0.009395,
     "end_time": "2023-09-08T14:35:50.641284",
     "exception": false,
     "start_time": "2023-09-08T14:35:50.631889",
     "status": "completed"
    },
    "tags": []
   },
   "source": [
    "#### **Model Training**"
   ]
  },
  {
   "cell_type": "code",
   "execution_count": 13,
   "id": "8881c1e5",
   "metadata": {
    "execution": {
     "iopub.execute_input": "2023-09-08T14:35:50.662746Z",
     "iopub.status.busy": "2023-09-08T14:35:50.662361Z",
     "iopub.status.idle": "2023-09-08T14:35:50.787375Z",
     "shell.execute_reply": "2023-09-08T14:35:50.786144Z"
    },
    "papermill": {
     "duration": 0.138974,
     "end_time": "2023-09-08T14:35:50.789924",
     "exception": false,
     "start_time": "2023-09-08T14:35:50.650950",
     "status": "completed"
    },
    "tags": []
   },
   "outputs": [
    {
     "data": {
      "text/html": [
       "<style>#sk-container-id-1 {color: black;background-color: white;}#sk-container-id-1 pre{padding: 0;}#sk-container-id-1 div.sk-toggleable {background-color: white;}#sk-container-id-1 label.sk-toggleable__label {cursor: pointer;display: block;width: 100%;margin-bottom: 0;padding: 0.3em;box-sizing: border-box;text-align: center;}#sk-container-id-1 label.sk-toggleable__label-arrow:before {content: \"▸\";float: left;margin-right: 0.25em;color: #696969;}#sk-container-id-1 label.sk-toggleable__label-arrow:hover:before {color: black;}#sk-container-id-1 div.sk-estimator:hover label.sk-toggleable__label-arrow:before {color: black;}#sk-container-id-1 div.sk-toggleable__content {max-height: 0;max-width: 0;overflow: hidden;text-align: left;background-color: #f0f8ff;}#sk-container-id-1 div.sk-toggleable__content pre {margin: 0.2em;color: black;border-radius: 0.25em;background-color: #f0f8ff;}#sk-container-id-1 input.sk-toggleable__control:checked~div.sk-toggleable__content {max-height: 200px;max-width: 100%;overflow: auto;}#sk-container-id-1 input.sk-toggleable__control:checked~label.sk-toggleable__label-arrow:before {content: \"▾\";}#sk-container-id-1 div.sk-estimator input.sk-toggleable__control:checked~label.sk-toggleable__label {background-color: #d4ebff;}#sk-container-id-1 div.sk-label input.sk-toggleable__control:checked~label.sk-toggleable__label {background-color: #d4ebff;}#sk-container-id-1 input.sk-hidden--visually {border: 0;clip: rect(1px 1px 1px 1px);clip: rect(1px, 1px, 1px, 1px);height: 1px;margin: -1px;overflow: hidden;padding: 0;position: absolute;width: 1px;}#sk-container-id-1 div.sk-estimator {font-family: monospace;background-color: #f0f8ff;border: 1px dotted black;border-radius: 0.25em;box-sizing: border-box;margin-bottom: 0.5em;}#sk-container-id-1 div.sk-estimator:hover {background-color: #d4ebff;}#sk-container-id-1 div.sk-parallel-item::after {content: \"\";width: 100%;border-bottom: 1px solid gray;flex-grow: 1;}#sk-container-id-1 div.sk-label:hover label.sk-toggleable__label {background-color: #d4ebff;}#sk-container-id-1 div.sk-serial::before {content: \"\";position: absolute;border-left: 1px solid gray;box-sizing: border-box;top: 0;bottom: 0;left: 50%;z-index: 0;}#sk-container-id-1 div.sk-serial {display: flex;flex-direction: column;align-items: center;background-color: white;padding-right: 0.2em;padding-left: 0.2em;position: relative;}#sk-container-id-1 div.sk-item {position: relative;z-index: 1;}#sk-container-id-1 div.sk-parallel {display: flex;align-items: stretch;justify-content: center;background-color: white;position: relative;}#sk-container-id-1 div.sk-item::before, #sk-container-id-1 div.sk-parallel-item::before {content: \"\";position: absolute;border-left: 1px solid gray;box-sizing: border-box;top: 0;bottom: 0;left: 50%;z-index: -1;}#sk-container-id-1 div.sk-parallel-item {display: flex;flex-direction: column;z-index: 1;position: relative;background-color: white;}#sk-container-id-1 div.sk-parallel-item:first-child::after {align-self: flex-end;width: 50%;}#sk-container-id-1 div.sk-parallel-item:last-child::after {align-self: flex-start;width: 50%;}#sk-container-id-1 div.sk-parallel-item:only-child::after {width: 0;}#sk-container-id-1 div.sk-dashed-wrapped {border: 1px dashed gray;margin: 0 0.4em 0.5em 0.4em;box-sizing: border-box;padding-bottom: 0.4em;background-color: white;}#sk-container-id-1 div.sk-label label {font-family: monospace;font-weight: bold;display: inline-block;line-height: 1.2em;}#sk-container-id-1 div.sk-label-container {text-align: center;}#sk-container-id-1 div.sk-container {/* jupyter's `normalize.less` sets `[hidden] { display: none; }` but bootstrap.min.css set `[hidden] { display: none !important; }` so we also need the `!important` here to be able to override the default hidden behavior on the sphinx rendered scikit-learn.org. See: https://github.com/scikit-learn/scikit-learn/issues/21755 */display: inline-block !important;position: relative;}#sk-container-id-1 div.sk-text-repr-fallback {display: none;}</style><div id=\"sk-container-id-1\" class=\"sk-top-container\"><div class=\"sk-text-repr-fallback\"><pre>LinearRegression()</pre><b>In a Jupyter environment, please rerun this cell to show the HTML representation or trust the notebook. <br />On GitHub, the HTML representation is unable to render, please try loading this page with nbviewer.org.</b></div><div class=\"sk-container\" hidden><div class=\"sk-item\"><div class=\"sk-estimator sk-toggleable\"><input class=\"sk-toggleable__control sk-hidden--visually\" id=\"sk-estimator-id-1\" type=\"checkbox\" checked><label for=\"sk-estimator-id-1\" class=\"sk-toggleable__label sk-toggleable__label-arrow\">LinearRegression</label><div class=\"sk-toggleable__content\"><pre>LinearRegression()</pre></div></div></div></div></div>"
      ],
      "text/plain": [
       "LinearRegression()"
      ]
     },
     "execution_count": 13,
     "metadata": {},
     "output_type": "execute_result"
    }
   ],
   "source": [
    "from sklearn.linear_model import LinearRegression\n",
    "model= LinearRegression()\n",
    "model.fit(x_train,y_train)"
   ]
  },
  {
   "cell_type": "code",
   "execution_count": 14,
   "id": "e3872a09",
   "metadata": {
    "execution": {
     "iopub.execute_input": "2023-09-08T14:35:50.812636Z",
     "iopub.status.busy": "2023-09-08T14:35:50.812260Z",
     "iopub.status.idle": "2023-09-08T14:35:50.817240Z",
     "shell.execute_reply": "2023-09-08T14:35:50.815697Z"
    },
    "papermill": {
     "duration": 0.019807,
     "end_time": "2023-09-08T14:35:50.820114",
     "exception": false,
     "start_time": "2023-09-08T14:35:50.800307",
     "status": "completed"
    },
    "tags": []
   },
   "outputs": [],
   "source": [
    "# Plotting the regression line\n",
    "\n",
    "line = model.coef_ * X + model.intercept_"
   ]
  },
  {
   "cell_type": "code",
   "execution_count": 15,
   "id": "c7d40fae",
   "metadata": {
    "execution": {
     "iopub.execute_input": "2023-09-08T14:35:50.842669Z",
     "iopub.status.busy": "2023-09-08T14:35:50.842267Z",
     "iopub.status.idle": "2023-09-08T14:35:51.075517Z",
     "shell.execute_reply": "2023-09-08T14:35:51.074452Z"
    },
    "papermill": {
     "duration": 0.24761,
     "end_time": "2023-09-08T14:35:51.077930",
     "exception": false,
     "start_time": "2023-09-08T14:35:50.830320",
     "status": "completed"
    },
    "tags": []
   },
   "outputs": [
    {
     "data": {
      "image/png": "[encoded data removed]",
      "text/plain": [
       "<Figure size 640x480 with 1 Axes>"
      ]
     },
     "metadata": {},
     "output_type": "display_data"
    }
   ],
   "source": [
    "# Plotting for test data\n",
    "\n",
    "plt.scatter(X,Y)\n",
    "plt.plot(X, line, color='blue')\n",
    "plt.show()"
   ]
  },
  {
   "cell_type": "code",
   "execution_count": 16,
   "id": "a93f6f63",
   "metadata": {
    "execution": {
     "iopub.execute_input": "2023-09-08T14:35:51.100710Z",
     "iopub.status.busy": "2023-09-08T14:35:51.100338Z",
     "iopub.status.idle": "2023-09-08T14:35:51.105224Z",
     "shell.execute_reply": "2023-09-08T14:35:51.104025Z"
    },
    "papermill": {
     "duration": 0.018817,
     "end_time": "2023-09-08T14:35:51.107272",
     "exception": false,
     "start_time": "2023-09-08T14:35:51.088455",
     "status": "completed"
    },
    "tags": []
   },
   "outputs": [],
   "source": [
    "# Making predictions\n",
    "\n",
    "pred=model.predict(x_test)"
   ]
  },
  {
   "cell_type": "code",
   "execution_count": 17,
   "id": "224edc66",
   "metadata": {
    "execution": {
     "iopub.execute_input": "2023-09-08T14:35:51.130173Z",
     "iopub.status.busy": "2023-09-08T14:35:51.129480Z",
     "iopub.status.idle": "2023-09-08T14:35:51.140312Z",
     "shell.execute_reply": "2023-09-08T14:35:51.139065Z"
    },
    "papermill": {
     "duration": 0.025213,
     "end_time": "2023-09-08T14:35:51.142843",
     "exception": false,
     "start_time": "2023-09-08T14:35:51.117630",
     "status": "completed"
    },
    "tags": []
   },
   "outputs": [
    {
     "data": {
      "text/html": [
       "<div>\n",
       "<style scoped>\n",
       "    .dataframe tbody tr th:only-of-type {\n",
       "        vertical-align: middle;\n",
       "    }\n",
       "\n",
       "    .dataframe tbody tr th {\n",
       "        vertical-align: top;\n",
       "    }\n",
       "\n",
       "    .dataframe thead th {\n",
       "        text-align: right;\n",
       "    }\n",
       "</style>\n",
       "<table border=\"1\" class=\"dataframe\">\n",
       "  <thead>\n",
       "    <tr style=\"text-align: right;\">\n",
       "      <th></th>\n",
       "      <th>Actual data</th>\n",
       "      <th>Predicted data</th>\n",
       "    </tr>\n",
       "  </thead>\n",
       "  <tbody>\n",
       "    <tr>\n",
       "      <th>0</th>\n",
       "      <td>20</td>\n",
       "      <td>17.053665</td>\n",
       "    </tr>\n",
       "    <tr>\n",
       "      <th>1</th>\n",
       "      <td>27</td>\n",
       "      <td>33.694229</td>\n",
       "    </tr>\n",
       "    <tr>\n",
       "      <th>2</th>\n",
       "      <td>69</td>\n",
       "      <td>74.806209</td>\n",
       "    </tr>\n",
       "    <tr>\n",
       "      <th>3</th>\n",
       "      <td>30</td>\n",
       "      <td>26.842232</td>\n",
       "    </tr>\n",
       "    <tr>\n",
       "      <th>4</th>\n",
       "      <td>62</td>\n",
       "      <td>60.123359</td>\n",
       "    </tr>\n",
       "    <tr>\n",
       "      <th>5</th>\n",
       "      <td>35</td>\n",
       "      <td>39.567369</td>\n",
       "    </tr>\n",
       "    <tr>\n",
       "      <th>6</th>\n",
       "      <td>24</td>\n",
       "      <td>20.969092</td>\n",
       "    </tr>\n",
       "    <tr>\n",
       "      <th>7</th>\n",
       "      <td>86</td>\n",
       "      <td>78.721636</td>\n",
       "    </tr>\n",
       "  </tbody>\n",
       "</table>\n",
       "</div>"
      ],
      "text/plain": [
       "   Actual data  Predicted data\n",
       "0           20       17.053665\n",
       "1           27       33.694229\n",
       "2           69       74.806209\n",
       "3           30       26.842232\n",
       "4           62       60.123359\n",
       "5           35       39.567369\n",
       "6           24       20.969092\n",
       "7           86       78.721636"
      ]
     },
     "execution_count": 17,
     "metadata": {},
     "output_type": "execute_result"
    }
   ],
   "source": [
    "# Comparison of actual data and predicted data\n",
    "\n",
    "d1= pd.DataFrame({'Actual data': y_test, \"Predicted data\": pred})\n",
    "d1"
   ]
  },
  {
   "cell_type": "code",
   "execution_count": 18,
   "id": "de2d5a79",
   "metadata": {
    "execution": {
     "iopub.execute_input": "2023-09-08T14:35:51.166398Z",
     "iopub.status.busy": "2023-09-08T14:35:51.166016Z",
     "iopub.status.idle": "2023-09-08T14:35:51.172059Z",
     "shell.execute_reply": "2023-09-08T14:35:51.170910Z"
    },
    "papermill": {
     "duration": 0.020193,
     "end_time": "2023-09-08T14:35:51.174287",
     "exception": false,
     "start_time": "2023-09-08T14:35:51.154094",
     "status": "completed"
    },
    "tags": []
   },
   "outputs": [
    {
     "name": "stdout",
     "output_type": "stream",
     "text": [
      "Number of Hours : 9.25\n",
      "Predicted score is : 92.91505723477056\n"
     ]
    }
   ],
   "source": [
    "# Predicting the score for a student who studies for 9.25 hours per day\n",
    "\n",
    "time = 9.25\n",
    "pred1 = model.predict([[time]])\n",
    "print(\"Number of Hours :\", time)\n",
    "print(\"Predicted score is :\", pred1[0])"
   ]
  },
  {
   "cell_type": "markdown",
   "id": "30effec5",
   "metadata": {
    "papermill": {
     "duration": 0.010166,
     "end_time": "2023-09-08T14:35:51.195508",
     "exception": false,
     "start_time": "2023-09-08T14:35:51.185342",
     "status": "completed"
    },
    "tags": []
   },
   "source": [
    "#### **Model Evaluation**"
   ]
  },
  {
   "cell_type": "code",
   "execution_count": 19,
   "id": "c35b5f49",
   "metadata": {
    "execution": {
     "iopub.execute_input": "2023-09-08T14:35:51.218692Z",
     "iopub.status.busy": "2023-09-08T14:35:51.218286Z",
     "iopub.status.idle": "2023-09-08T14:35:51.224135Z",
     "shell.execute_reply": "2023-09-08T14:35:51.223292Z"
    },
    "papermill": {
     "duration": 0.020279,
     "end_time": "2023-09-08T14:35:51.226438",
     "exception": false,
     "start_time": "2023-09-08T14:35:51.206159",
     "status": "completed"
    },
    "tags": []
   },
   "outputs": [
    {
     "name": "stdout",
     "output_type": "stream",
     "text": [
      "Mean Absolute Error:  4.419727808027651\n"
     ]
    }
   ],
   "source": [
    "from sklearn.metrics import mean_absolute_error\n",
    "\n",
    "# Calculating MAE (Mean Absolute Error)\n",
    "mae = mean_absolute_error(y_test,pred)\n",
    "print(\"Mean Absolute Error: \",mae)\n",
    "\n",
    "\n"
   ]
  },
  {
   "cell_type": "code",
   "execution_count": null,
   "id": "72681afa",
   "metadata": {
    "papermill": {
     "duration": 0.010481,
     "end_time": "2023-09-08T14:35:51.247847",
     "exception": false,
     "start_time": "2023-09-08T14:35:51.237366",
     "status": "completed"
    },
    "tags": []
   },
   "outputs": [],
   "source": []
  }
 ],
 "kernelspec": {
  "display_name": "Python 3",
  "language": "python",
  "name": "python3"
 },
 "language_info": {
  "codemirror_mode": {
   "name": "ipython",
   "version": 3
  },
  "file_extension": ".py",
  "mimetype": "text/x-python",
  "name": "python",
  "nbconvert_exporter": "python",
  "pygments_lexer": "ipython3",
  "version": "3.6.4"
 },
 "metadata": {
  "kernelspec": {
   "display_name": "Python 3",
   "language": "python",
   "name": "python3"
  },
  "language_info": {
   "codemirror_mode": {
    "name": "ipython",
    "version": 3
   },
   "file_extension": ".py",
   "mimetype": "text/x-python",
   "name": "python",
   "nbconvert_exporter": "python",
   "pygments_lexer": "ipython3",
   "version": "3.10.12"
  },
  "papermill": {
   "default_parameters": {},
   "duration": 8.435081,
   "end_time": "2023-09-08T14:35:51.881205",
   "environment_variables": {},
   "exception": null,
   "input_path": "__notebook__.ipynb",
   "output_path": "__notebook__.ipynb",
   "parameters": {},
   "start_time": "2023-09-08T14:35:43.446124",
   "version": "2.4.0"
  }
 },
 "nbformat": 4,
 "nbformat_minor": 5
}
